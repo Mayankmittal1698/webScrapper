{
 "cells": [
  {
   "cell_type": "code",
   "execution_count": 166,
   "metadata": {},
   "outputs": [],
   "source": [
    "import requests\n",
    "# from urllib.request import urljoin\n",
    "from bs4 import BeautifulSoup\n",
    "# col-sm-18 col-full-xs countdown-item-content"
   ]
  },
  {
   "cell_type": "code",
   "execution_count": 167,
   "metadata": {},
   "outputs": [],
   "source": [
    "base_url = \"https://editorial.rottentomatoes.com/guide/140-essential-action-movies-to-watch-now/\"\n",
    "response = requests.get(base_url)\n",
    "html = response.content\n",
    "soup = BeautifulSoup(html, 'lxml')\n"
   ]
  },
  {
   "cell_type": "code",
   "execution_count": 168,
   "metadata": {},
   "outputs": [],
   "source": [
    "with open('rotten.html','wb') as file: \n",
    "    file.write(soup.prettify('utf-8'))"
   ]
  },
  {
   "cell_type": "code",
   "execution_count": 169,
   "metadata": {},
   "outputs": [],
   "source": [
    "div_ = soup.find_all('div','col-sm-18 col-full-xs countdown-item-content')"
   ]
  },
  {
   "cell_type": "code",
   "execution_count": 170,
   "metadata": {},
   "outputs": [],
   "source": [
    "# div_[1].find(\"h2\")\n",
    "h2s = [div.find('h2') for div in div_]"
   ]
  },
  {
   "attachments": {},
   "cell_type": "markdown",
   "metadata": {},
   "source": [
    "# Extracting title and years of the movie"
   ]
  },
  {
   "cell_type": "code",
   "execution_count": 171,
   "metadata": {},
   "outputs": [],
   "source": [
    "# print(h2s[1].find('a').text)\n",
    "#titles\n",
    "titles = [l.find('a').text for l in h2s]"
   ]
  },
  {
   "cell_type": "code",
   "execution_count": 172,
   "metadata": {},
   "outputs": [],
   "source": [
    "#years \n",
    "# h2s[1].find(class_ = 'subtle start-year').text\n",
    "years = [l.find(class_ = 'subtle start-year').text for l in h2s]"
   ]
  },
  {
   "cell_type": "code",
   "execution_count": 173,
   "metadata": {},
   "outputs": [],
   "source": [
    "#now remove bracket from the years \n",
    "# years[1].strip(\"()\")\n",
    "years_ = [int(l.strip('()')) for l in years]"
   ]
  },
  {
   "cell_type": "markdown",
   "metadata": {},
   "source": [
    "## Extracting the scores"
   ]
  },
  {
   "cell_type": "code",
   "execution_count": 174,
   "metadata": {},
   "outputs": [],
   "source": [
    "# Filtering only the spans containing the score\n",
    "scores = [h2.find(class_ = \"tMeterScore\") for h2 in h2s]"
   ]
  },
  {
   "cell_type": "code",
   "execution_count": 175,
   "metadata": {},
   "outputs": [],
   "source": [
    "# Extracting the score string\n",
    "score_str = [scr.text for scr in scores]"
   ]
  },
  {
   "cell_type": "code",
   "execution_count": 176,
   "metadata": {},
   "outputs": [],
   "source": [
    "# Removing the '%' sign\n",
    "score_s = [scr.strip('%') for scr in score_str]\n"
   ]
  },
  {
   "cell_type": "code",
   "execution_count": 177,
   "metadata": {},
   "outputs": [
    {
     "data": {
      "text/plain": [
       "[59,\n",
       " 40,\n",
       " 94,\n",
       " 41,\n",
       " 87,\n",
       " 88,\n",
       " 85,\n",
       " 71,\n",
       " 70,\n",
       " 46,\n",
       " 53,\n",
       " 93,\n",
       " 91,\n",
       " 97,\n",
       " 58,\n",
       " 58,\n",
       " 67,\n",
       " 60,\n",
       " 59,\n",
       " 61,\n",
       " 60,\n",
       " 90,\n",
       " 78,\n",
       " 46,\n",
       " 57,\n",
       " 43,\n",
       " 58,\n",
       " 66,\n",
       " 70,\n",
       " 67,\n",
       " 62,\n",
       " 71,\n",
       " 93,\n",
       " 73,\n",
       " 79,\n",
       " 68,\n",
       " 98,\n",
       " 71,\n",
       " 93,\n",
       " 70,\n",
       " 85,\n",
       " 67,\n",
       " 91,\n",
       " 91,\n",
       " 88,\n",
       " 70,\n",
       " 91,\n",
       " 71,\n",
       " 68,\n",
       " 92,\n",
       " 59,\n",
       " 61,\n",
       " 70,\n",
       " 62,\n",
       " 51,\n",
       " 93,\n",
       " 73,\n",
       " 75,\n",
       " 71,\n",
       " 74,\n",
       " 79,\n",
       " 80,\n",
       " 80,\n",
       " 83,\n",
       " 85,\n",
       " 86,\n",
       " 91,\n",
       " 86,\n",
       " 88,\n",
       " 93,\n",
       " 95,\n",
       " 89,\n",
       " 88,\n",
       " 90,\n",
       " 93,\n",
       " 94,\n",
       " 91,\n",
       " 94,\n",
       " 99,\n",
       " 96,\n",
       " 93,\n",
       " 83,\n",
       " 90,\n",
       " 82,\n",
       " 96,\n",
       " 81,\n",
       " 89,\n",
       " 92,\n",
       " 89,\n",
       " 91,\n",
       " 85,\n",
       " 96,\n",
       " 96,\n",
       " 87,\n",
       " 75,\n",
       " 90,\n",
       " 94,\n",
       " 79,\n",
       " 84,\n",
       " 86,\n",
       " 92,\n",
       " 86,\n",
       " 94,\n",
       " 93,\n",
       " 78,\n",
       " 80,\n",
       " 67,\n",
       " 91,\n",
       " 89,\n",
       " 94,\n",
       " 92,\n",
       " 100,\n",
       " 98,\n",
       " 82,\n",
       " 95,\n",
       " 67,\n",
       " 86,\n",
       " 94,\n",
       " 100,\n",
       " 79,\n",
       " 85,\n",
       " 74,\n",
       " 94,\n",
       " 84,\n",
       " 86,\n",
       " 98,\n",
       " 80,\n",
       " 92,\n",
       " 83,\n",
       " 95,\n",
       " 88,\n",
       " 87,\n",
       " 97,\n",
       " 96,\n",
       " 98,\n",
       " 94,\n",
       " 88,\n",
       " 92,\n",
       " 94,\n",
       " 97]"
      ]
     },
     "execution_count": 177,
     "metadata": {},
     "output_type": "execute_result"
    }
   ],
   "source": [
    "# Converting each score to an integer\n",
    "Score = [int(scr) for scr in score_s]\n",
    "Score"
   ]
  },
  {
   "attachments": {},
   "cell_type": "markdown",
   "metadata": {},
   "source": [
    "## Extracting the rest of the information"
   ]
  },
  {
   "cell_type": "code",
   "execution_count": 178,
   "metadata": {},
   "outputs": [],
   "source": [
    "# div_[1].find(class_ = 'info critics-consensus').text\n",
    "#Extraction of Critics consensus\n",
    "\n",
    "consensus = [d.find(class_ = 'info critics-consensus') for d in div_]"
   ]
  },
  {
   "cell_type": "code",
   "execution_count": 179,
   "metadata": {},
   "outputs": [],
   "source": [
    "#now remove words in start \"Critics consensus\"\n",
    "str = 'Critics Consensus: '\n",
    "ln = len(str)\n",
    "# consensus[1][19:]\n",
    "consensus_text = [con.text[ln:] for con in consensus]"
   ]
  },
  {
   "cell_type": "code",
   "execution_count": null,
   "metadata": {},
   "outputs": [],
   "source": [
    "#above one is not so professional so lets do it in html way \n",
    "# .."
   ]
  },
  {
   "attachments": {},
   "cell_type": "markdown",
   "metadata": {},
   "source": [
    "### Director "
   ]
  },
  {
   "cell_type": "code",
   "execution_count": 180,
   "metadata": {},
   "outputs": [],
   "source": [
    "div_director = [d.find('div', class_ = 'info director') for d in div_]"
   ]
  },
  {
   "cell_type": "code",
   "execution_count": 181,
   "metadata": {},
   "outputs": [],
   "source": [
    "director  = [None if d.find('a').text is None else d.find('a').text for d in div_director]"
   ]
  },
  {
   "attachments": {},
   "cell_type": "markdown",
   "metadata": {},
   "source": [
    "### Cast "
   ]
  },
  {
   "cell_type": "code",
   "execution_count": 182,
   "metadata": {},
   "outputs": [
    {
     "data": {
      "text/plain": [
       "'Gregory Hines'"
      ]
     },
     "execution_count": 182,
     "metadata": {},
     "output_type": "execute_result"
    }
   ],
   "source": [
    "div_[0].find('div', class_ = 'info cast').find_all('a')[0].text"
   ]
  },
  {
   "cell_type": "code",
   "execution_count": 183,
   "metadata": {},
   "outputs": [],
   "source": [
    "# div_cast = [d.find('div', class_ = 'info cast') for d in div_]\n",
    "# cast_ = [d.find_all('a') for d in div_cast]\n",
    "# cast_\n",
    "div_cast = [d.find('div', class_ = 'info cast') for d in div_]"
   ]
  },
  {
   "cell_type": "code",
   "execution_count": 184,
   "metadata": {},
   "outputs": [],
   "source": [
    "# cast =[]\n",
    "# for c in div_cast: \n",
    "#     links = c.find_all('a')\n",
    "#     cast_ = [o.string for o in links]\n",
    "#     result = \", \".join(cast_) \n",
    "\n",
    "#     cast.append(result)"
   ]
  },
  {
   "cell_type": "code",
   "execution_count": 185,
   "metadata": {},
   "outputs": [],
   "source": [
    "# now doing same like above by list comprehension \n",
    "cast = [\", \".join([o.string for o in c.find_all('a')]) for c in [d.find('div', class_ = 'info cast') for d in div_] ]"
   ]
  },
  {
   "cell_type": "markdown",
   "metadata": {},
   "source": [
    "# Extracting the rest of the information"
   ]
  },
  {
   "cell_type": "markdown",
   "metadata": {},
   "source": [
    "## Adjusted score"
   ]
  },
  {
   "cell_type": "code",
   "execution_count": 186,
   "metadata": {},
   "outputs": [
    {
     "data": {
      "text/plain": [
       "42274"
      ]
     },
     "execution_count": 186,
     "metadata": {},
     "output_type": "execute_result"
    }
   ],
   "source": [
    "# class=\"info countdown-adjusted-score\"\n",
    "ds = div_[1].find('div', attrs = {'class': \"info countdown-adjusted-score\"}).contents[1]\n",
    "int(ds.strip('% '))\n"
   ]
  },
  {
   "cell_type": "code",
   "execution_count": 193,
   "metadata": {},
   "outputs": [],
   "source": [
    "adj_score = [d.find('div', attrs = {'class': \"info countdown-adjusted-score\"}).contents[1] for d in div_ ]"
   ]
  },
  {
   "cell_type": "code",
   "execution_count": 195,
   "metadata": {},
   "outputs": [],
   "source": [
    "adjusted_score = [int(s.strip('% ')) for s in adj_score ]\n"
   ]
  },
  {
   "cell_type": "markdown",
   "metadata": {},
   "source": [
    "## Synopsis"
   ]
  },
  {
   "cell_type": "code",
   "execution_count": 189,
   "metadata": {},
   "outputs": [],
   "source": [
    "# div_[0].find('div', class_ = 'info synopsis').contents[1]"
   ]
  },
  {
   "cell_type": "code",
   "execution_count": 190,
   "metadata": {},
   "outputs": [],
   "source": [
    "synopsis = [d.find('div',class_ = 'info synopsis').contents[1] for d in div_]"
   ]
  },
  {
   "attachments": {},
   "cell_type": "markdown",
   "metadata": {},
   "source": [
    "# Representing the data in structured form "
   ]
  },
  {
   "cell_type": "code",
   "execution_count": 191,
   "metadata": {},
   "outputs": [],
   "source": [
    "import pandas as pd "
   ]
  },
  {
   "attachments": {},
   "cell_type": "markdown",
   "metadata": {},
   "source": [
    "Creating a Data Frame and populating it with our data"
   ]
  },
  {
   "cell_type": "code",
   "execution_count": 196,
   "metadata": {},
   "outputs": [
    {
     "data": {
      "text/html": [
       "<div>\n",
       "<style scoped>\n",
       "    .dataframe tbody tr th:only-of-type {\n",
       "        vertical-align: middle;\n",
       "    }\n",
       "\n",
       "    .dataframe tbody tr th {\n",
       "        vertical-align: top;\n",
       "    }\n",
       "\n",
       "    .dataframe thead th {\n",
       "        text-align: right;\n",
       "    }\n",
       "</style>\n",
       "<table border=\"1\" class=\"dataframe\">\n",
       "  <thead>\n",
       "    <tr style=\"text-align: right;\">\n",
       "      <th></th>\n",
       "      <th>Movies Title</th>\n",
       "      <th>Year</th>\n",
       "      <th>Score</th>\n",
       "      <th>Adjusted Score</th>\n",
       "      <th>Director</th>\n",
       "      <th>Synopsis</th>\n",
       "      <th>Cast</th>\n",
       "      <th>Consensus</th>\n",
       "    </tr>\n",
       "  </thead>\n",
       "  <tbody>\n",
       "    <tr>\n",
       "      <th>0</th>\n",
       "      <td>Running Scared</td>\n",
       "      <td>1986</td>\n",
       "      <td>59</td>\n",
       "      <td>55487</td>\n",
       "      <td>Peter Hyams</td>\n",
       "      <td>Ray and Danny (Gregory Hines, Billy Crystal) ...</td>\n",
       "      <td>Gregory Hines, Billy Crystal, Jimmy Smits, Ste...</td>\n",
       "      <td>Running Scared struggles to strike a consisten...</td>\n",
       "    </tr>\n",
       "    <tr>\n",
       "      <th>1</th>\n",
       "      <td>Equilibrium</td>\n",
       "      <td>2002</td>\n",
       "      <td>40</td>\n",
       "      <td>42274</td>\n",
       "      <td>Kurt Wimmer</td>\n",
       "      <td>In a futuristic world, a regime has eliminate...</td>\n",
       "      <td>Christian Bale, Emily Watson, Taye Diggs, Angu...</td>\n",
       "      <td>Equilibrium is a reheated mishmash of other sc...</td>\n",
       "    </tr>\n",
       "    <tr>\n",
       "      <th>2</th>\n",
       "      <td>Hero</td>\n",
       "      <td>2002</td>\n",
       "      <td>94</td>\n",
       "      <td>101295</td>\n",
       "      <td>Yimou Zhang</td>\n",
       "      <td>In this visually arresting martial arts epic ...</td>\n",
       "      <td>Jet Li, Tony Leung Chiu Wai, Maggie Cheung, Do...</td>\n",
       "      <td>With death-defying action sequences and epic h...</td>\n",
       "    </tr>\n",
       "    <tr>\n",
       "      <th>3</th>\n",
       "      <td>Road House</td>\n",
       "      <td>1989</td>\n",
       "      <td>41</td>\n",
       "      <td>43972</td>\n",
       "      <td>Rowdy Herrington</td>\n",
       "      <td>The Double Deuce is the meanest, loudest and ...</td>\n",
       "      <td>Patrick Swayze, Kelly Lynch, Sam Elliott, Ben ...</td>\n",
       "      <td>Whether Road House is simply bad or so bad it'...</td>\n",
       "    </tr>\n",
       "    <tr>\n",
       "      <th>4</th>\n",
       "      <td>Unstoppable</td>\n",
       "      <td>2010</td>\n",
       "      <td>87</td>\n",
       "      <td>93906</td>\n",
       "      <td>Tony Scott</td>\n",
       "      <td>When a massive, unmanned locomotive roars out...</td>\n",
       "      <td>Denzel Washington, Chris Pine, Rosario Dawson,...</td>\n",
       "      <td>As fast, loud, and relentless as the train at ...</td>\n",
       "    </tr>\n",
       "    <tr>\n",
       "      <th>...</th>\n",
       "      <td>...</td>\n",
       "      <td>...</td>\n",
       "      <td>...</td>\n",
       "      <td>...</td>\n",
       "      <td>...</td>\n",
       "      <td>...</td>\n",
       "      <td>...</td>\n",
       "      <td>...</td>\n",
       "    </tr>\n",
       "    <tr>\n",
       "      <th>135</th>\n",
       "      <td>Hard-Boiled</td>\n",
       "      <td>1992</td>\n",
       "      <td>94</td>\n",
       "      <td>96123</td>\n",
       "      <td>John Woo</td>\n",
       "      <td>A cop who loses his partner in a shoot-out wi...</td>\n",
       "      <td>Chow Yun-Fat, Bowie Lam, Philip Chan, Tony Leu...</td>\n",
       "      <td>Boasting impactful action as well as surprisin...</td>\n",
       "    </tr>\n",
       "    <tr>\n",
       "      <th>136</th>\n",
       "      <td>The Matrix</td>\n",
       "      <td>1999</td>\n",
       "      <td>88</td>\n",
       "      <td>94518</td>\n",
       "      <td>Lilly Wachowski</td>\n",
       "      <td>Neo (Keanu Reeves) believes that Morpheus (La...</td>\n",
       "      <td>Keanu Reeves, Laurence Fishburne, Carrie-Anne ...</td>\n",
       "      <td>Thanks to the Wachowskis' imaginative vision, ...</td>\n",
       "    </tr>\n",
       "    <tr>\n",
       "      <th>137</th>\n",
       "      <td>Terminator 2: Judgment Day</td>\n",
       "      <td>1991</td>\n",
       "      <td>92</td>\n",
       "      <td>97445</td>\n",
       "      <td>James Cameron</td>\n",
       "      <td>In this sequel set eleven years after \"The Te...</td>\n",
       "      <td>Arnold Schwarzenegger, Linda Hamilton, Edward ...</td>\n",
       "      <td>T2 features thrilling action sequences and eye...</td>\n",
       "    </tr>\n",
       "    <tr>\n",
       "      <th>138</th>\n",
       "      <td>Die Hard</td>\n",
       "      <td>1988</td>\n",
       "      <td>94</td>\n",
       "      <td>99848</td>\n",
       "      <td>John McTiernan</td>\n",
       "      <td>New York City policeman John McClane (Bruce W...</td>\n",
       "      <td>Bruce Willis, Alan Rickman, Bonnie Bedelia, Re...</td>\n",
       "      <td>Its many imitators (and sequels) have never co...</td>\n",
       "    </tr>\n",
       "    <tr>\n",
       "      <th>139</th>\n",
       "      <td>Mad Max: Fury Road</td>\n",
       "      <td>2015</td>\n",
       "      <td>97</td>\n",
       "      <td>114039</td>\n",
       "      <td>George Miller</td>\n",
       "      <td>Years after the collapse of civilization, the...</td>\n",
       "      <td>Tom Hardy, Charlize Theron, Nicholas Hoult, Hu...</td>\n",
       "      <td>With exhilarating action and a surprising amou...</td>\n",
       "    </tr>\n",
       "  </tbody>\n",
       "</table>\n",
       "<p>140 rows × 8 columns</p>\n",
       "</div>"
      ],
      "text/plain": [
       "                   Movies Title  Year  Score  Adjusted Score  \\\n",
       "0                Running Scared  1986     59           55487   \n",
       "1                   Equilibrium  2002     40           42274   \n",
       "2                          Hero  2002     94          101295   \n",
       "3                    Road House  1989     41           43972   \n",
       "4                   Unstoppable  2010     87           93906   \n",
       "..                          ...   ...    ...             ...   \n",
       "135                 Hard-Boiled  1992     94           96123   \n",
       "136                  The Matrix  1999     88           94518   \n",
       "137  Terminator 2: Judgment Day  1991     92           97445   \n",
       "138                    Die Hard  1988     94           99848   \n",
       "139          Mad Max: Fury Road  2015     97          114039   \n",
       "\n",
       "             Director                                           Synopsis  \\\n",
       "0         Peter Hyams   Ray and Danny (Gregory Hines, Billy Crystal) ...   \n",
       "1         Kurt Wimmer   In a futuristic world, a regime has eliminate...   \n",
       "2         Yimou Zhang   In this visually arresting martial arts epic ...   \n",
       "3    Rowdy Herrington   The Double Deuce is the meanest, loudest and ...   \n",
       "4          Tony Scott   When a massive, unmanned locomotive roars out...   \n",
       "..                ...                                                ...   \n",
       "135          John Woo   A cop who loses his partner in a shoot-out wi...   \n",
       "136   Lilly Wachowski   Neo (Keanu Reeves) believes that Morpheus (La...   \n",
       "137     James Cameron   In this sequel set eleven years after \"The Te...   \n",
       "138    John McTiernan   New York City policeman John McClane (Bruce W...   \n",
       "139     George Miller   Years after the collapse of civilization, the...   \n",
       "\n",
       "                                                  Cast  \\\n",
       "0    Gregory Hines, Billy Crystal, Jimmy Smits, Ste...   \n",
       "1    Christian Bale, Emily Watson, Taye Diggs, Angu...   \n",
       "2    Jet Li, Tony Leung Chiu Wai, Maggie Cheung, Do...   \n",
       "3    Patrick Swayze, Kelly Lynch, Sam Elliott, Ben ...   \n",
       "4    Denzel Washington, Chris Pine, Rosario Dawson,...   \n",
       "..                                                 ...   \n",
       "135  Chow Yun-Fat, Bowie Lam, Philip Chan, Tony Leu...   \n",
       "136  Keanu Reeves, Laurence Fishburne, Carrie-Anne ...   \n",
       "137  Arnold Schwarzenegger, Linda Hamilton, Edward ...   \n",
       "138  Bruce Willis, Alan Rickman, Bonnie Bedelia, Re...   \n",
       "139  Tom Hardy, Charlize Theron, Nicholas Hoult, Hu...   \n",
       "\n",
       "                                             Consensus  \n",
       "0    Running Scared struggles to strike a consisten...  \n",
       "1    Equilibrium is a reheated mishmash of other sc...  \n",
       "2    With death-defying action sequences and epic h...  \n",
       "3    Whether Road House is simply bad or so bad it'...  \n",
       "4    As fast, loud, and relentless as the train at ...  \n",
       "..                                                 ...  \n",
       "135  Boasting impactful action as well as surprisin...  \n",
       "136  Thanks to the Wachowskis' imaginative vision, ...  \n",
       "137  T2 features thrilling action sequences and eye...  \n",
       "138  Its many imitators (and sequels) have never co...  \n",
       "139  With exhilarating action and a surprising amou...  \n",
       "\n",
       "[140 rows x 8 columns]"
      ]
     },
     "execution_count": 196,
     "metadata": {},
     "output_type": "execute_result"
    }
   ],
   "source": [
    "Movies_info = pd.DataFrame()\n",
    "\n",
    "Movies_info['Movies Title'] = titles\n",
    "Movies_info['Year']  = years_\n",
    "Movies_info['Score'] = Score\n",
    "Movies_info['Adjusted Score'] = adjusted_score\n",
    "Movies_info['Director'] = director\n",
    "Movies_info['Synopsis'] = synopsis\n",
    "Movies_info['Cast'] = cast\n",
    "Movies_info['Consensus'] = consensus_text\n",
    "\n",
    "Movies_info"
   ]
  },
  {
   "cell_type": "code",
   "execution_count": 201,
   "metadata": {},
   "outputs": [
    {
     "data": {
      "text/html": [
       "<div>\n",
       "<style scoped>\n",
       "    .dataframe tbody tr th:only-of-type {\n",
       "        vertical-align: middle;\n",
       "    }\n",
       "\n",
       "    .dataframe tbody tr th {\n",
       "        vertical-align: top;\n",
       "    }\n",
       "\n",
       "    .dataframe thead th {\n",
       "        text-align: right;\n",
       "    }\n",
       "</style>\n",
       "<table border=\"1\" class=\"dataframe\">\n",
       "  <thead>\n",
       "    <tr style=\"text-align: right;\">\n",
       "      <th></th>\n",
       "      <th>Movies Title</th>\n",
       "      <th>Year</th>\n",
       "      <th>Score</th>\n",
       "      <th>Adjusted Score</th>\n",
       "      <th>Director</th>\n",
       "      <th>Synopsis</th>\n",
       "      <th>Cast</th>\n",
       "      <th>Consensus</th>\n",
       "    </tr>\n",
       "  </thead>\n",
       "  <tbody>\n",
       "    <tr>\n",
       "      <th>0</th>\n",
       "      <td>Running Scared</td>\n",
       "      <td>1986</td>\n",
       "      <td>59</td>\n",
       "      <td>55487</td>\n",
       "      <td>Peter Hyams</td>\n",
       "      <td>Ray and Danny (Gregory Hines, Billy Crystal) are two Chicago police detectives hot on the trail of drug kingpin Julio...</td>\n",
       "      <td>Gregory Hines, Billy Crystal, Jimmy Smits, Steven Bauer</td>\n",
       "      <td>Running Scared struggles to strike a consistent balance between violent action and humor, but the chemistry between its well-matched leads keeps things entertaining.</td>\n",
       "    </tr>\n",
       "    <tr>\n",
       "      <th>1</th>\n",
       "      <td>Equilibrium</td>\n",
       "      <td>2002</td>\n",
       "      <td>40</td>\n",
       "      <td>42274</td>\n",
       "      <td>Kurt Wimmer</td>\n",
       "      <td>In a futuristic world, a regime has eliminated war by suppressing emotions: books, art and music are strictly forbidden and...</td>\n",
       "      <td>Christian Bale, Emily Watson, Taye Diggs, Angus Macfadyen</td>\n",
       "      <td>Equilibrium is a reheated mishmash of other sci-fi movies.</td>\n",
       "    </tr>\n",
       "    <tr>\n",
       "      <th>2</th>\n",
       "      <td>Hero</td>\n",
       "      <td>2002</td>\n",
       "      <td>94</td>\n",
       "      <td>101295</td>\n",
       "      <td>Yimou Zhang</td>\n",
       "      <td>In this visually arresting martial arts epic set in ancient China, an unnamed fighter (Jet Li) is being honored for...</td>\n",
       "      <td>Jet Li, Tony Leung Chiu Wai, Maggie Cheung, Donnie Yen Ji-Dan</td>\n",
       "      <td>With death-defying action sequences and epic historic sweep, Hero offers everything a martial arts fan could ask for.</td>\n",
       "    </tr>\n",
       "    <tr>\n",
       "      <th>3</th>\n",
       "      <td>Road House</td>\n",
       "      <td>1989</td>\n",
       "      <td>41</td>\n",
       "      <td>43972</td>\n",
       "      <td>Rowdy Herrington</td>\n",
       "      <td>The Double Deuce is the meanest, loudest and rowdiest bar south of the Mason-Dixon Line, and Dalton (Patrick Swayze) has...</td>\n",
       "      <td>Patrick Swayze, Kelly Lynch, Sam Elliott, Ben Gazzara</td>\n",
       "      <td>Whether Road House is simply bad or so bad it's good depends largely on the audience's fondness for Swayze -- and tolerance for violently cheesy action.</td>\n",
       "    </tr>\n",
       "    <tr>\n",
       "      <th>4</th>\n",
       "      <td>Unstoppable</td>\n",
       "      <td>2010</td>\n",
       "      <td>87</td>\n",
       "      <td>93906</td>\n",
       "      <td>Tony Scott</td>\n",
       "      <td>When a massive, unmanned locomotive roars out of control, the threat is more ominous than just a derailment. The train...</td>\n",
       "      <td>Denzel Washington, Chris Pine, Rosario Dawson, Kevin Dunn</td>\n",
       "      <td>As fast, loud, and relentless as the train at the center of the story, Unstoppable is perfect popcorn entertainment -- and director Tony Scott's best movie in years.</td>\n",
       "    </tr>\n",
       "    <tr>\n",
       "      <th>...</th>\n",
       "      <td>...</td>\n",
       "      <td>...</td>\n",
       "      <td>...</td>\n",
       "      <td>...</td>\n",
       "      <td>...</td>\n",
       "      <td>...</td>\n",
       "      <td>...</td>\n",
       "      <td>...</td>\n",
       "    </tr>\n",
       "    <tr>\n",
       "      <th>135</th>\n",
       "      <td>Hard-Boiled</td>\n",
       "      <td>1992</td>\n",
       "      <td>94</td>\n",
       "      <td>96123</td>\n",
       "      <td>John Woo</td>\n",
       "      <td>A cop who loses his partner in a shoot-out with gun smugglers goes on a mission to catch them. In...</td>\n",
       "      <td>Chow Yun-Fat, Bowie Lam, Philip Chan, Tony Leung Chiu Wai</td>\n",
       "      <td>Boasting impactful action as well as surprising emotional resonance, Hard Boiled is a powerful thriller that hits hard in more ways than one.</td>\n",
       "    </tr>\n",
       "    <tr>\n",
       "      <th>136</th>\n",
       "      <td>The Matrix</td>\n",
       "      <td>1999</td>\n",
       "      <td>88</td>\n",
       "      <td>94518</td>\n",
       "      <td>Lilly Wachowski</td>\n",
       "      <td>Neo (Keanu Reeves) believes that Morpheus (Laurence Fishburne), an elusive figure considered to be the most dangerous man alive, can...</td>\n",
       "      <td>Keanu Reeves, Laurence Fishburne, Carrie-Anne Moss, Hugo Weaving</td>\n",
       "      <td>Thanks to the Wachowskis' imaginative vision, The Matrix is a smartly crafted combination of spectacular action and groundbreaking special effects.</td>\n",
       "    </tr>\n",
       "    <tr>\n",
       "      <th>137</th>\n",
       "      <td>Terminator 2: Judgment Day</td>\n",
       "      <td>1991</td>\n",
       "      <td>92</td>\n",
       "      <td>97445</td>\n",
       "      <td>James Cameron</td>\n",
       "      <td>In this sequel set eleven years after \"The Terminator,\" young John Connor (Edward Furlong), the key to civilization's victory over...</td>\n",
       "      <td>Arnold Schwarzenegger, Linda Hamilton, Edward Furlong, Robert Patrick</td>\n",
       "      <td>T2 features thrilling action sequences and eye-popping visual effects, but what takes this sci-fi/ action landmark to the next level is the depth of the human (and cyborg) characters.</td>\n",
       "    </tr>\n",
       "    <tr>\n",
       "      <th>138</th>\n",
       "      <td>Die Hard</td>\n",
       "      <td>1988</td>\n",
       "      <td>94</td>\n",
       "      <td>99848</td>\n",
       "      <td>John McTiernan</td>\n",
       "      <td>New York City policeman John McClane (Bruce Willis) is visiting his estranged wife (Bonnie Bedelia) on Christmas Eve. He joins...</td>\n",
       "      <td>Bruce Willis, Alan Rickman, Bonnie Bedelia, Reginald VelJohnson</td>\n",
       "      <td>Its many imitators (and sequels) have never come close to matching the taut thrills of the definitive holiday action classic.</td>\n",
       "    </tr>\n",
       "    <tr>\n",
       "      <th>139</th>\n",
       "      <td>Mad Max: Fury Road</td>\n",
       "      <td>2015</td>\n",
       "      <td>97</td>\n",
       "      <td>114039</td>\n",
       "      <td>George Miller</td>\n",
       "      <td>Years after the collapse of civilization, the tyrannical Immortan Joe enslaves apocalypse survivors inside the desert fortress the Citadel. When...</td>\n",
       "      <td>Tom Hardy, Charlize Theron, Nicholas Hoult, Hugh Keays-Byrne</td>\n",
       "      <td>With exhilarating action and a surprising amount of narrative heft, Mad Max: Fury Road brings George Miller's post-apocalyptic franchise roaring vigorously back to life.</td>\n",
       "    </tr>\n",
       "  </tbody>\n",
       "</table>\n",
       "<p>140 rows × 8 columns</p>\n",
       "</div>"
      ],
      "text/plain": [
       "                   Movies Title  Year  Score  Adjusted Score  \\\n",
       "0    Running Scared              1986  59     55487            \n",
       "1    Equilibrium                 2002  40     42274            \n",
       "2    Hero                        2002  94     101295           \n",
       "3    Road House                  1989  41     43972            \n",
       "4    Unstoppable                 2010  87     93906            \n",
       "..           ...                  ...  ..       ...            \n",
       "135  Hard-Boiled                 1992  94     96123            \n",
       "136  The Matrix                  1999  88     94518            \n",
       "137  Terminator 2: Judgment Day  1991  92     97445            \n",
       "138  Die Hard                    1988  94     99848            \n",
       "139  Mad Max: Fury Road          2015  97     114039           \n",
       "\n",
       "             Director  \\\n",
       "0    Peter Hyams        \n",
       "1    Kurt Wimmer        \n",
       "2    Yimou Zhang        \n",
       "3    Rowdy Herrington   \n",
       "4    Tony Scott         \n",
       "..          ...         \n",
       "135  John Woo           \n",
       "136  Lilly Wachowski    \n",
       "137  James Cameron      \n",
       "138  John McTiernan     \n",
       "139  George Miller      \n",
       "\n",
       "                                                                                                                                                 Synopsis  \\\n",
       "0     Ray and Danny (Gregory Hines, Billy Crystal) are two Chicago police detectives hot on the trail of drug kingpin Julio...                              \n",
       "1     In a futuristic world, a regime has eliminated war by suppressing emotions: books, art and music are strictly forbidden and...                        \n",
       "2     In this visually arresting martial arts epic set in ancient China, an unnamed fighter (Jet Li) is being honored for...                                \n",
       "3     The Double Deuce is the meanest, loudest and rowdiest bar south of the Mason-Dixon Line, and Dalton (Patrick Swayze) has...                           \n",
       "4     When a massive, unmanned locomotive roars out of control, the threat is more ominous than just a derailment. The train...                             \n",
       "..                                                                                                                          ...                             \n",
       "135   A cop who loses his partner in a shoot-out with gun smugglers goes on a mission to catch them. In...                                                  \n",
       "136   Neo (Keanu Reeves) believes that Morpheus (Laurence Fishburne), an elusive figure considered to be the most dangerous man alive, can...               \n",
       "137   In this sequel set eleven years after \"The Terminator,\" young John Connor (Edward Furlong), the key to civilization's victory over...                 \n",
       "138   New York City policeman John McClane (Bruce Willis) is visiting his estranged wife (Bonnie Bedelia) on Christmas Eve. He joins...                     \n",
       "139   Years after the collapse of civilization, the tyrannical Immortan Joe enslaves apocalypse survivors inside the desert fortress the Citadel. When...   \n",
       "\n",
       "                                                                      Cast  \\\n",
       "0    Gregory Hines, Billy Crystal, Jimmy Smits, Steven Bauer                 \n",
       "1    Christian Bale, Emily Watson, Taye Diggs, Angus Macfadyen               \n",
       "2    Jet Li, Tony Leung Chiu Wai, Maggie Cheung, Donnie Yen Ji-Dan           \n",
       "3    Patrick Swayze, Kelly Lynch, Sam Elliott, Ben Gazzara                   \n",
       "4    Denzel Washington, Chris Pine, Rosario Dawson, Kevin Dunn               \n",
       "..                                                         ...               \n",
       "135  Chow Yun-Fat, Bowie Lam, Philip Chan, Tony Leung Chiu Wai               \n",
       "136  Keanu Reeves, Laurence Fishburne, Carrie-Anne Moss, Hugo Weaving        \n",
       "137  Arnold Schwarzenegger, Linda Hamilton, Edward Furlong, Robert Patrick   \n",
       "138  Bruce Willis, Alan Rickman, Bonnie Bedelia, Reginald VelJohnson         \n",
       "139  Tom Hardy, Charlize Theron, Nicholas Hoult, Hugh Keays-Byrne            \n",
       "\n",
       "                                                                                                                                                                                   Consensus  \n",
       "0    Running Scared struggles to strike a consistent balance between violent action and humor, but the chemistry between its well-matched leads keeps things entertaining.                    \n",
       "1    Equilibrium is a reheated mishmash of other sci-fi movies.                                                                                                                               \n",
       "2    With death-defying action sequences and epic historic sweep, Hero offers everything a martial arts fan could ask for.                                                                    \n",
       "3    Whether Road House is simply bad or so bad it's good depends largely on the audience's fondness for Swayze -- and tolerance for violently cheesy action.                                 \n",
       "4    As fast, loud, and relentless as the train at the center of the story, Unstoppable is perfect popcorn entertainment -- and director Tony Scott's best movie in years.                    \n",
       "..                                                                                                                                                                     ...                    \n",
       "135  Boasting impactful action as well as surprising emotional resonance, Hard Boiled is a powerful thriller that hits hard in more ways than one.                                            \n",
       "136  Thanks to the Wachowskis' imaginative vision, The Matrix is a smartly crafted combination of spectacular action and groundbreaking special effects.                                      \n",
       "137  T2 features thrilling action sequences and eye-popping visual effects, but what takes this sci-fi/ action landmark to the next level is the depth of the human (and cyborg) characters.  \n",
       "138  Its many imitators (and sequels) have never come close to matching the taut thrills of the definitive holiday action classic.                                                            \n",
       "139  With exhilarating action and a surprising amount of narrative heft, Mad Max: Fury Road brings George Miller's post-apocalyptic franchise roaring vigorously back to life.                \n",
       "\n",
       "[140 rows x 8 columns]"
      ]
     },
     "execution_count": 201,
     "metadata": {},
     "output_type": "execute_result"
    }
   ],
   "source": [
    "pd.set_option('display.max_colwidth',1)\n",
    "Movies_info"
   ]
  },
  {
   "attachments": {},
   "cell_type": "markdown",
   "metadata": {},
   "source": [
    "## Exporting the data into CSv or excel file"
   ]
  },
  {
   "cell_type": "code",
   "execution_count": 205,
   "metadata": {},
   "outputs": [],
   "source": [
    "# exporting to csv file without indexing it\n",
    "Movies_info.to_csv('rottentomato.csv', index=False, header=True)"
   ]
  },
  {
   "cell_type": "code",
   "execution_count": 209,
   "metadata": {},
   "outputs": [],
   "source": [
    "# exporting to excel file without any index\n",
    "Movies_info.to_excel('rottentomato.xlsx' ,index=False, header=True)"
   ]
  }
 ],
 "metadata": {
  "kernelspec": {
   "display_name": "base",
   "language": "python",
   "name": "python3"
  },
  "language_info": {
   "codemirror_mode": {
    "name": "ipython",
    "version": 3
   },
   "file_extension": ".py",
   "mimetype": "text/x-python",
   "name": "python",
   "nbconvert_exporter": "python",
   "pygments_lexer": "ipython3",
   "version": "3.9.16"
  },
  "orig_nbformat": 4
 },
 "nbformat": 4,
 "nbformat_minor": 2
}
